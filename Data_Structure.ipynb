{
  "nbformat": 4,
  "nbformat_minor": 0,
  "metadata": {
    "colab": {
      "provenance": [],
      "authorship_tag": "ABX9TyP6dEvhY3PGNR0jOMFul277",
      "include_colab_link": true
    },
    "kernelspec": {
      "name": "python3",
      "display_name": "Python 3"
    },
    "language_info": {
      "name": "python"
    }
  },
  "cells": [
    {
      "cell_type": "markdown",
      "metadata": {
        "id": "view-in-github",
        "colab_type": "text"
      },
      "source": [
        "<a href=\"https://colab.research.google.com/github/abhib56/PW_python/blob/main/Data_Structure.ipynb\" target=\"_parent\"><img src=\"https://colab.research.google.com/assets/colab-badge.svg\" alt=\"Open In Colab\"/></a>"
      ]
    },
    {
      "cell_type": "markdown",
      "source": [
        "Q1. Discuss string and provide examples.\n",
        "\n",
        "Ans .It follows the format string[start:end], where start is the index where slicing begins\n",
        " (inclusive) and end is the index where it ends (exclusive). For example, with the\n",
        " string my_string = \"Hello, World!\", if you use my_string[7:12], it will return \"World\". If\n",
        " you omit start, it starts from the beginning of the string.\n",
        "\n",
        "  Q2. Explain the key features of lists in python.\n",
        "\n",
        " Ans. Lists are mutable and dynamic; list items can be added, removed or changed after the list is defined. Lists are ordered; newly added items will be placed at the end of the list. Lists use zero-based indexing; every list item has an associated index, and The first item's index is 0.\n",
        "\n",
        "\n",
        " Q3. Describe how to access,modify and delete elements in a list with examples.\n",
        "\n",
        " Ans. Python list elements are ordered by index, a number referring to their placement in the list. List indices start at 0 and increment by one. To access a list element by index, square bracket notation is used: list[index].\n",
        "\n",
        " Modify an Item Within a List in Python\n",
        " 1. Step 1: Create a List. To start, create a list in Python. For example: list_names =\n",
        " [\"Jon\", \"Bill\", \"Maria\", \"Jenny\", \"Jack\"] ...\n",
        " 2. Step 2: Modify an Item within the list. For example, to modify the third item (index of 2) in the list from “Maria” to “Mona“: list_names[2] = \"Mona\"\n",
        "\n",
        " You can either use the del keyword or the pop() function to remove an element from a\n",
        " list in Python by its index\n",
        "\n",
        "\n",
        " Q4. Compare and contrast tuples and lists with examples.\n",
        "\n",
        " Ans.Use a list if you need a mutable collection of items where you may need to add,\n",
        " remove, or change elements. Lists are more flexible and have more built-in methods,\n",
        " making them ideal for dynamic collections. Use a tuple if you need an immutable\n",
        " collection where the elements won't change after creation.\n",
        "\n",
        "\n",
        " Q5.Describe the key features of sets and provide examples of their uses.\n",
        "\n",
        " Ans.A set is represented by a capital letter symbol and the number of elements in the finite set is represented as the cardinal number of a set in a curly bracket {…}. For example, set A is a collection of all the natural numbers, such as A ={1,2,3,4,5,6,7,8,…..∞}. Also, check sets here.\n",
        "\n",
        "\n",
        " Q6.Discuss the use cases of tuples and sets in python programming.\n",
        "\n",
        " Ans.Tuples are used to store multiple items in a single variable. Tuple is one of 4 built-in data types in Python used to store collections of data, the other 3 are List, Set, and Dictionary, all with different qualities and usage. A tuple is a collection which is ordered and unchangeable.\n",
        "A common use of sets in Python is computing standard math operations such as union,intersection, difference, and symmetric difference. The image below shows a couple standard math operations on two sets A and B. The red part of each Venn diagram is the resulting set of a given set operation.\n",
        "\n",
        "\n",
        "\n",
        " Q7. Describe how to add, modify, and delete items in a dictionary with examples.\n",
        "\n",
        " Ans.How to Add an Item to a Dictionary in Python\n",
        " 1. Method 1: Using The Assignment Operator. ...\n",
        " 2. Method 2: Using update() ...\n",
        " 3. Method 3: Using dict() Constructor. ...\n",
        " 4. Method 4: Using __setitem__ ...\n",
        " 5. Method 5: Using The ** Operator. ...\n",
        " 6. Method 6: Checking If A Key Exists. ...\n",
        " 7. Method 7: Using A For Loop. ...\n",
        " 8. Method 8: Using zip.\n",
        "\n",
        "How to modify a dictionary Python\n",
        " ● Toupdate a dictionary in Python, you can use the update() method, like dict1.\n",
        " update({'b': 3, 'c': 4}) . This method allows you to add new items or change the value of existing items in a Python dictionary. In this example, we have a\n",
        " dictionary dict1 with keys 'a' and 'b'.\n",
        "\n",
        " How to remove a key from a Python dictionary.\n",
        " To remove a key from a dictionary, you can use the del statement. Here's an example: my_dict = {'a': 1, 'b': 2, 'c': 3} del my_dict['b'] print(my_dict)\n",
        "  # Output: {'a': 1, 'c': 3}\n",
        " Alternatively, yo…\n",
        "\n",
        "\n",
        " Q8.Discuss the importance of dictionary keys being immutable and provide\n",
        " examples.\n",
        "\n",
        " Ans.In a dictionary, the key part must be immutable. This means that once a key is created, it cannot be changed. Immutability is essential for keys because it ensures that the dictionary can efficiently look up values based on their keys.If the key were a mutable object, its value could change, and thus its hash could also change. But since whoever changes the key object can't tell that it was being used as a dictionary key, it can't move the entry around in the dictionary\n",
        "\n",
        "\n"
      ],
      "metadata": {
        "id": "8UUBlphC4ViM"
      }
    }
  ]
}